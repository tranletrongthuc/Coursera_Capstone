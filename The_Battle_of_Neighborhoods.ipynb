{
 "cells": [
  {
   "cell_type": "markdown",
   "metadata": {},
   "source": [
    "# 1.Problem and discussion"
   ]
  },
  {
   "cell_type": "markdown",
   "metadata": {},
   "source": [
    "My city is very big. People move from the countryside to my city more in the last several years. Besides that, there are not too many wide roads with a parking lot on the roadside. Therefore, it's not easy to find out a parking lot in the urban for cars. As usual, people have to book a parking lot about 30-60 minutes before arriving, sometimes even 6 hours in at a rush hour. If unlucky, they have to park too far away. "
   ]
  },
  {
   "cell_type": "markdown",
   "metadata": {},
   "source": [
    "So, my friend wants to open a new big parking garage in the urban the help people easier in parking.\n",
    "The question is which area in the urban is the best place to that. "
   ]
  },
  {
   "cell_type": "markdown",
   "metadata": {},
   "source": [
    "# 2.Data preparation"
   ]
  },
  {
   "cell_type": "markdown",
   "metadata": {},
   "source": [
    "* Data source: Foursquare location data"
   ]
  },
  {
   "cell_type": "markdown",
   "metadata": {},
   "source": [
    "* Data contents: Coordinates of neighborhoods in Ho Chi Minh City, Vietnam including bus stations, hospitals, schools, airports, parks, walking streets, stadiums and near event spaces that attract a large crowd, etc"
   ]
  },
  {
   "cell_type": "code",
   "execution_count": null,
   "metadata": {},
   "outputs": [],
   "source": []
  }
 ],
 "metadata": {
  "kernelspec": {
   "display_name": "Python 3",
   "language": "python",
   "name": "python3"
  },
  "language_info": {
   "codemirror_mode": {
    "name": "ipython",
    "version": 3
   },
   "file_extension": ".py",
   "mimetype": "text/x-python",
   "name": "python",
   "nbconvert_exporter": "python",
   "pygments_lexer": "ipython3",
   "version": "3.8.3"
  }
 },
 "nbformat": 4,
 "nbformat_minor": 4
}
